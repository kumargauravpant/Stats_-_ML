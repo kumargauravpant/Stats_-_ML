{
 "cells": [
  {
   "cell_type": "code",
   "execution_count": 5,
   "metadata": {},
   "outputs": [],
   "source": [
    "import random\n",
    "import numpy as np"
   ]
  },
  {
   "cell_type": "code",
   "execution_count": 6,
   "metadata": {},
   "outputs": [],
   "source": [
    "population = np.random.randint(0,1000,10000000)"
   ]
  },
  {
   "cell_type": "code",
   "execution_count": 23,
   "metadata": {},
   "outputs": [
    {
     "name": "stdout",
     "output_type": "stream",
     "text": [
      "499.4044536\n",
      "288.63459369328115\n"
     ]
    }
   ],
   "source": [
    "print(population.mean())\n",
    "print(population.std())"
   ]
  },
  {
   "cell_type": "code",
   "execution_count": 13,
   "metadata": {},
   "outputs": [],
   "source": [
    "sample_1 = np.random.choice(population, size=100, replace=False)"
   ]
  },
  {
   "cell_type": "code",
   "execution_count": 22,
   "metadata": {},
   "outputs": [
    {
     "name": "stdout",
     "output_type": "stream",
     "text": [
      "470.43\n",
      "272.374861358386\n"
     ]
    }
   ],
   "source": [
    "print(sample_1.mean())\n",
    "print(sample_1.std())"
   ]
  },
  {
   "cell_type": "code",
   "execution_count": 20,
   "metadata": {},
   "outputs": [
    {
     "name": "stdout",
     "output_type": "stream",
     "text": [
      "495.174\n",
      "295.91951899798704\n"
     ]
    }
   ],
   "source": [
    "sample_2 = np.random.choice(population, size=1000, replace=False)\n",
    "print(sample_2.mean())\n",
    "print(sample_2.std())"
   ]
  },
  {
   "cell_type": "code",
   "execution_count": 21,
   "metadata": {},
   "outputs": [
    {
     "name": "stdout",
     "output_type": "stream",
     "text": [
      "502.2824\n",
      "288.2897758336913\n"
     ]
    }
   ],
   "source": [
    "sample_3 = np.random.choice(population, size=10000, replace=False)\n",
    "print(sample_3.mean())\n",
    "print(sample_3.std())"
   ]
  }
 ],
 "metadata": {
  "kernelspec": {
   "display_name": "Python 3",
   "language": "python",
   "name": "python3"
  },
  "language_info": {
   "codemirror_mode": {
    "name": "ipython",
    "version": 3
   },
   "file_extension": ".py",
   "mimetype": "text/x-python",
   "name": "python",
   "nbconvert_exporter": "python",
   "pygments_lexer": "ipython3",
   "version": "3.6.4"
  }
 },
 "nbformat": 4,
 "nbformat_minor": 2
}
